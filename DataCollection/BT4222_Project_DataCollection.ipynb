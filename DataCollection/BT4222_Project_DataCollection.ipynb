{
 "cells": [
  {
   "cell_type": "markdown",
   "metadata": {
    "colab_type": "text",
    "id": "view-in-github"
   },
   "source": [
    "<a href=\"https://colab.research.google.com/github/ShengYu97/BT4222/blob/master/DataCollection/BT4222_Project_DataCollection.ipynb\" target=\"_parent\"><img src=\"https://colab.research.google.com/assets/colab-badge.svg\" alt=\"Open In Colab\"/></a>"
   ]
  },
  {
   "cell_type": "markdown",
   "metadata": {
    "colab_type": "text",
    "id": "VbsLY2KcxfQr"
   },
   "source": [
    "# Install & Import"
   ]
  },
  {
   "cell_type": "code",
   "execution_count": 0,
   "metadata": {
    "colab": {
     "base_uri": "https://localhost:8080/",
     "height": 170
    },
    "colab_type": "code",
    "id": "d4OUIEqV7KEk",
    "outputId": "dd56d7bc-2062-4093-c734-9cacffb5428a"
   },
   "outputs": [
    {
     "name": "stdout",
     "output_type": "stream",
     "text": [
      "Collecting habanero\n",
      "  Downloading https://files.pythonhosted.org/packages/c5/97/b13dfc458931cbe8f737d26f832081bbc0783851e73fc70089b608a312d7/habanero-0.6.2-py2.py3-none-any.whl\n",
      "Requirement already satisfied: requests>=2.7.0 in /usr/local/lib/python3.6/dist-packages (from habanero) (2.18.4)\n",
      "Requirement already satisfied: chardet<3.1.0,>=3.0.2 in /usr/local/lib/python3.6/dist-packages (from requests>=2.7.0->habanero) (3.0.4)\n",
      "Requirement already satisfied: certifi>=2017.4.17 in /usr/local/lib/python3.6/dist-packages (from requests>=2.7.0->habanero) (2019.3.9)\n",
      "Requirement already satisfied: urllib3<1.23,>=1.21.1 in /usr/local/lib/python3.6/dist-packages (from requests>=2.7.0->habanero) (1.22)\n",
      "Requirement already satisfied: idna<2.7,>=2.5 in /usr/local/lib/python3.6/dist-packages (from requests>=2.7.0->habanero) (2.6)\n",
      "Installing collected packages: habanero\n",
      "Successfully installed habanero-0.6.2\n"
     ]
    }
   ],
   "source": [
    "!pip install habanero"
   ]
  },
  {
   "cell_type": "code",
   "execution_count": 0,
   "metadata": {
    "colab": {
     "base_uri": "https://localhost:8080/",
     "height": 122
    },
    "colab_type": "code",
    "id": "dzMeYN-p7WPQ",
    "outputId": "39830c01-43ec-43ae-e5b1-0285e4da886b"
   },
   "outputs": [
    {
     "name": "stdout",
     "output_type": "stream",
     "text": [
      "Go to this URL in a browser: https://accounts.google.com/o/oauth2/auth?client_id=947318989803-6bn6qk8qdgf4n4g3pfee6491hc0brc4i.apps.googleusercontent.com&redirect_uri=urn%3Aietf%3Awg%3Aoauth%3A2.0%3Aoob&scope=email%20https%3A%2F%2Fwww.googleapis.com%2Fauth%2Fdocs.test%20https%3A%2F%2Fwww.googleapis.com%2Fauth%2Fdrive%20https%3A%2F%2Fwww.googleapis.com%2Fauth%2Fdrive.photos.readonly%20https%3A%2F%2Fwww.googleapis.com%2Fauth%2Fpeopleapi.readonly&response_type=code\n",
      "\n",
      "Enter your authorization code:\n",
      "··········\n",
      "Mounted at /content/gdrive/\n"
     ]
    }
   ],
   "source": [
    "from google.colab import drive\n",
    "drive.mount('/content/gdrive/')"
   ]
  },
  {
   "cell_type": "markdown",
   "metadata": {
    "colab_type": "text",
    "id": "Hneb4gq1xecd"
   },
   "source": []
  },
  {
   "cell_type": "code",
   "execution_count": 0,
   "metadata": {
    "colab": {},
    "colab_type": "code",
    "id": "ACgoclvw7Cuz"
   },
   "outputs": [],
   "source": [
    "import requests\n",
    "from habanero import counts\n",
    "import urllib\n",
    "import json\n",
    "import pandas as pd\n",
    "from google.colab import files\n",
    "import pandas as pd\n",
    "import matplotlib.pyplot as plt\n",
    "import numpy as np\n",
    "import re\n",
    "import nltk\n",
    "import string\n",
    "from nltk.tokenize import word_tokenize\n",
    "from nltk.corpus import stopwords\n",
    "from nltk.stem import PorterStemmer\n",
    "%matplotlib inline"
   ]
  },
  {
   "cell_type": "code",
   "execution_count": 0,
   "metadata": {
    "colab": {
     "base_uri": "https://localhost:8080/",
     "height": 102
    },
    "colab_type": "code",
    "id": "Zvcr8NTlxs7o",
    "outputId": "14d204fe-299b-43a8-e7ba-ff86106a1355"
   },
   "outputs": [
    {
     "name": "stdout",
     "output_type": "stream",
     "text": [
      "[nltk_data] Downloading package stopwords to /root/nltk_data...\n",
      "[nltk_data]   Unzipping corpora/stopwords.zip.\n",
      "[nltk_data] Downloading package punkt to /root/nltk_data...\n",
      "[nltk_data]   Unzipping tokenizers/punkt.zip.\n"
     ]
    },
    {
     "data": {
      "text/plain": [
       "True"
      ]
     },
     "execution_count": 4,
     "metadata": {
      "tags": []
     },
     "output_type": "execute_result"
    }
   ],
   "source": [
    "nltk.download('stopwords')\n",
    "nltk.download('punkt')"
   ]
  },
  {
   "cell_type": "markdown",
   "metadata": {
    "colab_type": "text",
    "id": "bsq_qCqaxt-I"
   },
   "source": [
    "# Ultility Tools"
   ]
  },
  {
   "cell_type": "code",
   "execution_count": 0,
   "metadata": {
    "colab": {},
    "colab_type": "code",
    "id": "xn3WwmA9xyjS"
   },
   "outputs": [],
   "source": [
    "def listToItem(lst):\n",
    "  if type(lst) is list:\n",
    "    if len(lst) != 0:\n",
    "      return lst[0]"
   ]
  },
  {
   "cell_type": "code",
   "execution_count": 0,
   "metadata": {
    "colab": {},
    "colab_type": "code",
    "id": "Gu6xc3bpCY9O"
   },
   "outputs": [],
   "source": [
    "def getDfByJournal(issn, nrows, offset=1):\n",
    "  df = pd.DataFrame()\n",
    "  for i in range(offset):\n",
    "    url = \"https://api.crossref.org/journals/\"+issn+\"/works?filter=has-abstract:true&rows=\"+str(nrows)+\"&offset=\"+str(offset)\n",
    "    headers={\"Accept\": \"application/json\"}\n",
    "    req = requests.get(url, headers=headers)\n",
    "    if req.status_code == 200:\n",
    "      json_str = json.dumps(req.json()['message']['items'])\n",
    "      df = df.append(pd.read_json(json_str))      \n",
    "  return df"
   ]
  },
  {
   "cell_type": "code",
   "execution_count": 0,
   "metadata": {
    "colab": {
     "base_uri": "https://localhost:8080/",
     "height": 34
    },
    "colab_type": "code",
    "id": "-rewbBIl3bAV",
    "outputId": "10580148-c2f9-4afd-c62e-03238b14b37e"
   },
   "outputs": [
    {
     "data": {
      "text/plain": [
       "(20, 35)"
      ]
     },
     "execution_count": 27,
     "metadata": {
      "tags": []
     },
     "output_type": "execute_result"
    }
   ],
   "source": [
    "df = getDfByJournal('2046-2069', 10, 2)\n",
    "df.shape"
   ]
  },
  {
   "cell_type": "code",
   "execution_count": 0,
   "metadata": {
    "colab": {},
    "colab_type": "code",
    "id": "nF5hEoGW4vzh"
   },
   "outputs": [],
   "source": [
    "url = \"https://api.crossref.org/journals/\"+'2046-2069'+\"/works?filter=has-abstract:true&rows=\"+str(10)+\"&offset=\"+str(2)\n",
    "headers={\"Accept\": \"application/json\"}\n",
    "req = requests.get(url, headers=headers)"
   ]
  },
  {
   "cell_type": "code",
   "execution_count": 0,
   "metadata": {
    "colab": {},
    "colab_type": "code",
    "id": "ESMNN1gR5IbP"
   },
   "outputs": [],
   "source": [
    "df = pd.DataFrame()"
   ]
  },
  {
   "cell_type": "code",
   "execution_count": 0,
   "metadata": {
    "colab": {},
    "colab_type": "code",
    "id": "UAaU1Hez41oh"
   },
   "outputs": [],
   "source": [
    "json_str = json.dumps(req.json()['message']['items'])\n",
    "df = df.append(pd.read_json(json_str))      "
   ]
  },
  {
   "cell_type": "code",
   "execution_count": 0,
   "metadata": {
    "colab": {
     "base_uri": "https://localhost:8080/",
     "height": 32
    },
    "colab_type": "code",
    "id": "Mwfgu7wv3uWC",
    "outputId": "a26332e5-813b-4f1c-d7a9-47163970f99d"
   },
   "outputs": [
    {
     "data": {
      "text/html": [
       "<div>\n",
       "<style scoped>\n",
       "    .dataframe tbody tr th:only-of-type {\n",
       "        vertical-align: middle;\n",
       "    }\n",
       "\n",
       "    .dataframe tbody tr th {\n",
       "        vertical-align: top;\n",
       "    }\n",
       "\n",
       "    .dataframe thead th {\n",
       "        text-align: right;\n",
       "    }\n",
       "</style>\n",
       "<table border=\"1\" class=\"dataframe\">\n",
       "  <thead>\n",
       "    <tr style=\"text-align: right;\">\n",
       "      <th></th>\n",
       "    </tr>\n",
       "  </thead>\n",
       "  <tbody>\n",
       "  </tbody>\n",
       "</table>\n",
       "</div>"
      ],
      "text/plain": [
       "Empty DataFrame\n",
       "Columns: []\n",
       "Index: []"
      ]
     },
     "execution_count": 17,
     "metadata": {
      "tags": []
     },
     "output_type": "execute_result"
    }
   ],
   "source": [
    "df"
   ]
  },
  {
   "cell_type": "code",
   "execution_count": 0,
   "metadata": {
    "colab": {},
    "colab_type": "code",
    "id": "7HqzXWDzCy10"
   },
   "outputs": [],
   "source": [
    "def cleandata(x):\n",
    "    x = x.strip()\n",
    "    x = x.replace('<jats:p>', '')\n",
    "    x = x.replace('</jats:p>', '')\n",
    "    text = x.split(' ')\n",
    "    text = ' '.join([i for i in text if not i.isdigit()])\n",
    "    text = re.sub(\"[!@#$+%*:()'-]\", ' ', text)\n",
    "    \n",
    "    #remove numbers and convert into lowercase\n",
    "    text = re.sub(r'\\d+', '', text).lower()\n",
    "    \n",
    "    #remove punctuation\n",
    "    translator = str.maketrans('', '', string.punctuation)\n",
    "    text = text.translate(translator)\n",
    "    \n",
    "    #remove stopwords\n",
    "    stop_words = set(stopwords.words('english'))\n",
    "    tokens = word_tokenize(text)\n",
    "    text = ' '.join([i for i in tokens if not i in stop_words])\n",
    "    \n",
    "    stemmer= PorterStemmer()\n",
    "    words = text.split(' ')\n",
    "    alltext = []\n",
    "    for word in words:\n",
    "        alltext.append(word)\n",
    "    return ' '.join(alltext)\n",
    "\n",
    "\n",
    "# def removeNumbers(x):\n",
    "#     return re.sub(r'\\d+', '', x)\n",
    "    \n",
    "def tolowercase(x):\n",
    "    return x.lower()\n",
    "\n",
    "def removePunctuation(x):\n",
    "    translator = str.maketrans('', '', string.punctuation)\n",
    "    return x.translate(translator)\n",
    "\n",
    "##Convert container title from list to string\n",
    "def listToItem(lst):\n",
    "    if type(lst) == list:\n",
    "        if len(lst) != 0:\n",
    "            return lst[0]\n",
    "\n",
    "#remove stop words\n",
    "# def removeStopWords(x):\n",
    "#     stop_words = set(stopwords.words('english'))\n",
    "#     tokens = word_tokenize(x)\n",
    "#     result = ' '.join([i for i in tokens if not i in stop_words])\n",
    "#     return result\n",
    "\n",
    "#stemming words\n",
    "# def stemmmingWords(x):\n",
    "#     stemmer= PorterStemmer()\n",
    "#     words = x.split(' ')\n",
    "#     text = []\n",
    "#     for word in words:\n",
    "#         text.append(stemmer.stem(word))\n",
    "#     return ' '.join(text)"
   ]
  },
  {
   "cell_type": "markdown",
   "metadata": {
    "colab_type": "text",
    "id": "9HoYcrTeyAeH"
   },
   "source": [
    "# Get ISSN list from query keyword"
   ]
  },
  {
   "cell_type": "markdown",
   "metadata": {
    "colab_type": "text",
    "id": "yFszgarwywgH"
   },
   "source": [
    "### Fetching data by keywords"
   ]
  },
  {
   "cell_type": "code",
   "execution_count": 0,
   "metadata": {
    "colab": {},
    "colab_type": "code",
    "id": "kLG9xkX6x5Ny"
   },
   "outputs": [],
   "source": [
    "keyword = \"thermal%20comfort\"\n",
    "nrows = 1000\n",
    "\n",
    "\n",
    "#Fetching...\n",
    "url = \"http://api.crossref.org/works?query=\"+keyword+\"&filter=has-abstract:true&sort=is-referenced-by-count&rows=\"+str(nrows) \n",
    "headers={\"Accept\": \"application/json\"}\n",
    "req = requests.get(url, headers=headers)\n",
    "json_str = json.dumps(req.json()['message']['items'])\n",
    "df = pd.read_json(json_str)"
   ]
  },
  {
   "cell_type": "markdown",
   "metadata": {
    "colab_type": "text",
    "id": "wdnjh8yEzWUT"
   },
   "source": [
    "### Selecting issn to include"
   ]
  },
  {
   "cell_type": "code",
   "execution_count": 0,
   "metadata": {
    "colab": {
     "base_uri": "https://localhost:8080/",
     "height": 1088
    },
    "colab_type": "code",
    "id": "-VHmvyDdyuJb",
    "outputId": "ebc4c2d4-eda7-462d-fd67-6998ddadb825"
   },
   "outputs": [
    {
     "name": "stdout",
     "output_type": "stream",
     "text": [
      "RSC Advances                                                                              117\n",
      "Journal of Materials Chemistry A                                                           63\n",
      "Physical Chemistry Chemical Physics                                                        43\n",
      "Journal of Materials Chemistry C                                                           40\n",
      "Australian Journal of Chemistry                                                            37\n",
      "Journal of Glaciology                                                                      33\n",
      "Nanoscale                                                                                  32\n",
      "RSC Adv.                                                                                   25\n",
      "Australian Journal of Physics                                                              23\n",
      "Journal of Applied Crystallography                                                         22\n",
      "J. Mater. Chem. A                                                                          22\n",
      "Clay Minerals                                                                              21\n",
      "Journal of Fluid Mechanics                                                                 17\n",
      "Journal of Nanomaterials                                                                   16\n",
      "Chemical Communications                                                                    16\n",
      "Annals of Glaciology                                                                       14\n",
      "Mineralogical Magazine                                                                     13\n",
      "Dalton Transactions                                                                        13\n",
      "Energy & Environmental Science                                                             12\n",
      "Materials Science Forum                                                                    11\n",
      "MRS Bulletin                                                                               11\n",
      "The Cryosphere                                                                             10\n",
      "Atmospheric Chemistry and Physics                                                          10\n",
      "Functional Plant Biology                                                                   10\n",
      "Green Chemistry                                                                            10\n",
      "Applied and Environmental Microbiology                                                     10\n",
      "Atmospheric Measurement Techniques                                                         10\n",
      "Journal of Neurosurgery                                                                    10\n",
      "J. Mater. Chem. C                                                                           9\n",
      "Chemical Science                                                                            8\n",
      "                                                                                         ... \n",
      "Journal of Clinical Microbiology                                                            1\n",
      "Open Chemistry                                                                              1\n",
      "Journal of Nano Research                                                                    1\n",
      "Radiocarbon                                                                                 1\n",
      "Soil Research                                                                               1\n",
      "MRS Internet Journal of Nitride Semiconductor Research                                      1\n",
      "Opto-Electronics Review                                                                     1\n",
      "Org. Biomol. Chem.                                                                          1\n",
      "Advances in Meteorology                                                                     1\n",
      "Advances in OptoElectronics                                                                 1\n",
      "Defect and Diffusion Forum                                                                  1\n",
      "Science and Technology of Nuclear Installations                                             1\n",
      "Journal of Composites                                                                       1\n",
      "Chem. Sci.                                                                                  1\n",
      "Biogeosciences                                                                              1\n",
      "Environmental Science: Nano                                                                 1\n",
      "Soft Matter                                                                                 1\n",
      "Geologica Carpathica                                                                        1\n",
      "Solid State Phenomena                                                                       1\n",
      "Animal Production                                                                           1\n",
      "Shock and Vibration                                                                         1\n",
      "Acta Crystallographica Section D Biological Crystallography                                 1\n",
      "Faraday Discussions                                                                         1\n",
      "Memoirs of the Entomological Society of Canada                                              1\n",
      "Psyche: A Journal of Entomology                                                             1\n",
      "Acta Crystallographica Section B Structural Science, Crystal Engineering and Materials      1\n",
      "Australian Journal of Botany                                                                1\n",
      "Pesquisa Agropecuária Brasileira                                                            1\n",
      "Urban Planning                                                                              1\n",
      "Collection of Czechoslovak Chemical Communications                                          1\n",
      "Name: container-title, Length: 178, dtype: int64\n"
     ]
    },
    {
     "data": {
      "text/plain": [
       "169"
      ]
     },
     "execution_count": 9,
     "metadata": {
      "tags": []
     },
     "output_type": "execute_result"
    }
   ],
   "source": [
    "df['container-title'] = df['container-title'].apply(lambda x: listToItem(x))\n",
    "df['ISSN'] = df['ISSN'].apply(lambda x: listToItem(x))\n",
    "## Do Look at the line for selecting which journals to include\n",
    "print(df['container-title'].value_counts())\n",
    "issnList = list(df['ISSN'].value_counts().keys())\n",
    "len(issnList)"
   ]
  },
  {
   "cell_type": "markdown",
   "metadata": {
    "colab_type": "text",
    "id": "WARaHFMzzbpG"
   },
   "source": [
    "### Fetch by issn / journals"
   ]
  },
  {
   "cell_type": "code",
   "execution_count": 0,
   "metadata": {
    "colab": {
     "base_uri": "https://localhost:8080/",
     "height": 425
    },
    "colab_type": "code",
    "id": "vWu0I4umzU3_",
    "outputId": "dfa654a4-211a-43f8-e8cd-8751e88d15ba"
   },
   "outputs": [
    {
     "name": "stdout",
     "output_type": "stream",
     "text": [
      "2046-2069\n",
      "['RSC Adv.']\n",
      "2050-7488\n",
      "['J. Mater. Chem. A']\n",
      "1463-9076\n",
      "['Phys. Chem. Chem. Phys.']\n",
      "2050-7526\n",
      "['Journal of Materials Chemistry C']\n",
      "0004-9425\n",
      "['Australian Journal of Chemistry']\n",
      "0022-1430\n",
      "['Journal of Glaciology']\n",
      "2040-3364\n",
      "['Nanoscale']\n",
      "1359-7345\n",
      "['Chem. Commun.']\n",
      "0004-9506\n",
      "['Australian Journal of Physics']\n",
      "0009-8558\n",
      "['Clay Minerals']\n",
      "0021-8898\n",
      "['Journal of Applied Crystallography']\n",
      "1477-9226\n",
      "['Dalton Trans.']\n"
     ]
    }
   ],
   "source": [
    "nrows = 1000\n",
    "nissn = 12\n",
    "offset = 10\n",
    "df = pd.DataFrame()\n",
    "for issn in issnList[:nissn]:\n",
    "  print(issn)\n",
    "  res = getDfByJournal(issn, nrows, offset)\n",
    "  if res is not None:\n",
    "    df = df.append(res)\n",
    "    print(df['container-title'].iloc[-1])\n",
    "  else:\n",
    "    print('skipped')"
   ]
  },
  {
   "cell_type": "markdown",
   "metadata": {
    "colab_type": "text",
    "id": "Xht-SMos2esI"
   },
   "source": [
    "# Data Cleansing"
   ]
  },
  {
   "cell_type": "code",
   "execution_count": 0,
   "metadata": {
    "colab": {},
    "colab_type": "code",
    "id": "XLgE2lI55KyN"
   },
   "outputs": [],
   "source": [
    "newdf = pd.DataFrame()"
   ]
  },
  {
   "cell_type": "code",
   "execution_count": 0,
   "metadata": {
    "colab": {
     "base_uri": "https://localhost:8080/",
     "height": 204
    },
    "colab_type": "code",
    "id": "Ojau5EiF22P3",
    "outputId": "419b0d7a-b33e-4ea8-b9cc-656b9e8e3580"
   },
   "outputs": [
    {
     "data": {
      "text/html": [
       "<div>\n",
       "<style scoped>\n",
       "    .dataframe tbody tr th:only-of-type {\n",
       "        vertical-align: middle;\n",
       "    }\n",
       "\n",
       "    .dataframe tbody tr th {\n",
       "        vertical-align: top;\n",
       "    }\n",
       "\n",
       "    .dataframe thead th {\n",
       "        text-align: right;\n",
       "    }\n",
       "</style>\n",
       "<table border=\"1\" class=\"dataframe\">\n",
       "  <thead>\n",
       "    <tr style=\"text-align: right;\">\n",
       "      <th></th>\n",
       "      <th>DOI</th>\n",
       "      <th>cleanTitle</th>\n",
       "      <th>container-title</th>\n",
       "      <th>cleanAbstract</th>\n",
       "      <th>is-referenced-by-count</th>\n",
       "    </tr>\n",
       "  </thead>\n",
       "  <tbody>\n",
       "    <tr>\n",
       "      <th>0</th>\n",
       "      <td>10.1039/c3ra46913a</td>\n",
       "      <td>esr study spin adducts three analogues depmpo ...</td>\n",
       "      <td>RSC Adv.</td>\n",
       "      <td>paverage geometries nitroxide adducts various ...</td>\n",
       "      <td>1</td>\n",
       "    </tr>\n",
       "    <tr>\n",
       "      <th>1</th>\n",
       "      <td>10.1039/c3ra46462h</td>\n",
       "      <td>reactions mono bicyclic enol ethers i–hydroper...</td>\n",
       "      <td>RSC Adv.</td>\n",
       "      <td>preactions mono bicyclic enol ethers isubsub–h...</td>\n",
       "      <td>7</td>\n",
       "    </tr>\n",
       "    <tr>\n",
       "      <th>2</th>\n",
       "      <td>10.1039/c3ra46915h</td>\n",
       "      <td>copper catalyzed oxidative cascade coupling n ...</td>\n",
       "      <td>RSC Adv.</td>\n",
       "      <td>pan oxidative cascade coupling reaction italic...</td>\n",
       "      <td>19</td>\n",
       "    </tr>\n",
       "    <tr>\n",
       "      <th>3</th>\n",
       "      <td>10.1039/c3ra46453a</td>\n",
       "      <td>catalytic wet peroxide oxidation phenol ch ch ...</td>\n",
       "      <td>RSC Adv.</td>\n",
       "      <td>punder ambient temperature atmospheric pressur...</td>\n",
       "      <td>10</td>\n",
       "    </tr>\n",
       "    <tr>\n",
       "      <th>4</th>\n",
       "      <td>10.1039/c3ra46967k</td>\n",
       "      <td>supramolecular analyte recognition experiment ...</td>\n",
       "      <td>RSC Adv.</td>\n",
       "      <td>psynergy experimental theoretical tools made s...</td>\n",
       "      <td>5</td>\n",
       "    </tr>\n",
       "  </tbody>\n",
       "</table>\n",
       "</div>"
      ],
      "text/plain": [
       "                  DOI                                         cleanTitle  \\\n",
       "0  10.1039/c3ra46913a  esr study spin adducts three analogues depmpo ...   \n",
       "1  10.1039/c3ra46462h  reactions mono bicyclic enol ethers i–hydroper...   \n",
       "2  10.1039/c3ra46915h  copper catalyzed oxidative cascade coupling n ...   \n",
       "3  10.1039/c3ra46453a  catalytic wet peroxide oxidation phenol ch ch ...   \n",
       "4  10.1039/c3ra46967k  supramolecular analyte recognition experiment ...   \n",
       "\n",
       "  container-title                                      cleanAbstract  \\\n",
       "0        RSC Adv.  paverage geometries nitroxide adducts various ...   \n",
       "1        RSC Adv.  preactions mono bicyclic enol ethers isubsub–h...   \n",
       "2        RSC Adv.  pan oxidative cascade coupling reaction italic...   \n",
       "3        RSC Adv.  punder ambient temperature atmospheric pressur...   \n",
       "4        RSC Adv.  psynergy experimental theoretical tools made s...   \n",
       "\n",
       "   is-referenced-by-count  \n",
       "0                       1  \n",
       "1                       7  \n",
       "2                      19  \n",
       "3                      10  \n",
       "4                       5  "
      ]
     },
     "execution_count": 30,
     "metadata": {
      "tags": []
     },
     "output_type": "execute_result"
    }
   ],
   "source": [
    "newdf['DOI']= df.DOI\n",
    "newdf['abstract'] = df.abstract\n",
    "newdf['title'] = df.title.apply(lambda x: listToItem(x))\n",
    "newdf['container-title'] = df['container-title'].apply(lambda x: listToItem(x))\n",
    "newdf['is-referenced-by-count'] = df['is-referenced-by-count']\n",
    "# newdf.head()\n",
    "newdf['cleanTitle'] = newdf.title.apply(lambda x : cleandata(x))\n",
    "newdf['cleanAbstract'] = newdf.abstract.apply(lambda x : cleandata(x))\n",
    "newdf = newdf[['DOI', 'cleanTitle', 'container-title', 'cleanAbstract', 'is-referenced-by-count']]\n",
    "newdf.head()"
   ]
  },
  {
   "cell_type": "markdown",
   "metadata": {
    "colab_type": "text",
    "id": "a9RFg9Gc9dzP"
   },
   "source": [
    "## Data Dump to Drive"
   ]
  },
  {
   "cell_type": "code",
   "execution_count": 0,
   "metadata": {
    "colab": {},
    "colab_type": "code",
    "id": "sQLv00KD5Mq6"
   },
   "outputs": [],
   "source": [
    "import datetime\n",
    "filename = 'data'+str(datetime.datetime.now())[:-7]+'.csv'\n",
    "newdf.to_csv('gdrive\\\\' +filename)"
   ]
  },
  {
   "cell_type": "code",
   "execution_count": 0,
   "metadata": {
    "colab": {
     "base_uri": "https://localhost:8080/",
     "height": 51
    },
    "colab_type": "code",
    "id": "KGmjOZxcELBx",
    "outputId": "7d1056ce-094a-48c0-9bde-70ead6732a6d"
   },
   "outputs": [
    {
     "name": "stdout",
     "output_type": "stream",
     "text": [
      "'data2019-04-02 12:48:35.csv'  'gdrive\\data2019-04-02 12:51:34.csv'\n",
      " gdrive\t\t\t        sample_data\n"
     ]
    }
   ],
   "source": [
    "!ls"
   ]
  },
  {
   "cell_type": "code",
   "execution_count": 0,
   "metadata": {
    "colab": {},
    "colab_type": "code",
    "id": "7r3CEowsGlgQ"
   },
   "outputs": [],
   "source": [
    "from google.colab import files\n",
    "\n",
    "files.download('data2019-04-02 12:48:35.csv')"
   ]
  },
  {
   "cell_type": "markdown",
   "metadata": {
    "colab_type": "text",
    "id": "ZqQ6CeO9xkAj"
   },
   "source": [
    "# NOT IN USE'"
   ]
  },
  {
   "cell_type": "code",
   "execution_count": 0,
   "metadata": {
    "colab": {},
    "colab_type": "code",
    "id": "CWPmc6ry5Mb5"
   },
   "outputs": [],
   "source": []
  },
  {
   "cell_type": "code",
   "execution_count": 0,
   "metadata": {
    "colab": {},
    "colab_type": "code",
    "id": "pg9_Cjsr61dK"
   },
   "outputs": [],
   "source": [
    "# Use\n",
    "def doiToAbstract(doi):\n",
    "    url = \"http://api.crossref.org/works/\"  + doi\n",
    "    headers={\"Accept\": \"application/json\"}\n",
    "    req = requests.get(url, headers=headers)\n",
    "    result = req.json()\n",
    "    if 'message' in result.keys():\n",
    "      if 'abstract' in result['message']:\n",
    "        return result['message']['abstract']\n",
    "    else:\n",
    "      return \"\""
   ]
  },
  {
   "cell_type": "code",
   "execution_count": 0,
   "metadata": {
    "colab": {},
    "colab_type": "code",
    "id": "TrR6PN7n7XZN"
   },
   "outputs": [],
   "source": [
    "def doiToCite(doi):\n",
    "#     search_query = scholarly.search_pubs_query(doi)\n",
    "#     print(doi)\n",
    "#     result = next(search_query)\n",
    "#     if hasattr(result, 'citedby'):\n",
    "#         return result.citedby\n",
    "#     else:\n",
    "#         return 0\n",
    "    return counts.citation_count(doi = doi)"
   ]
  },
  {
   "cell_type": "code",
   "execution_count": 0,
   "metadata": {
    "colab": {},
    "colab_type": "code",
    "id": "Gv08HEZVgWYP"
   },
   "outputs": [],
   "source": [
    "url = \"https://api.crossref.org/journals/0378-7788/works\"\n",
    "headers={\"Accept\": \"application/json\"}\n",
    "req = requests.get(url, headers=headers)\n",
    "json_str = json.dumps(req.json()['message']['items'])\n",
    "df = pd.read_json(json_str)"
   ]
  },
  {
   "cell_type": "code",
   "execution_count": 0,
   "metadata": {
    "colab": {
     "base_uri": "https://localhost:8080/",
     "height": 51
    },
    "colab_type": "code",
    "id": "0KfvlSOxgp6O",
    "outputId": "f58918bf-ad31-4db7-dc5d-22c4707b84de"
   },
   "outputs": [
    {
     "data": {
      "text/plain": [
       "Energy and Buildings    20\n",
       "Name: container-title, dtype: int64"
      ]
     },
     "execution_count": 148,
     "metadata": {
      "tags": []
     },
     "output_type": "execute_result"
    }
   ],
   "source": [
    "df['container-title'] = df['container-title'].apply(lambda x: listToItem(x))\n",
    "df['ISSN'] = df['ISSN'].apply(lambda x: listToItem(x))\n",
    "df['container-title'].value_counts()"
   ]
  },
  {
   "cell_type": "code",
   "execution_count": 0,
   "metadata": {
    "colab": {},
    "colab_type": "code",
    "id": "mkimI1ZBd-xR"
   },
   "outputs": [],
   "source": [
    "# def getDfByJournal(doiPrefix, nrows):\n",
    "#   url = \"https://api.crossref.org/works?filter=has-abstract:true,prefix:\"+doiPrefix+\"&rows=\"+str(nrows)\n",
    "#   headers={\"Accept\": \"application/json\"}\n",
    "#   req = requests.get(url, headers=headers)\n",
    "#   json_str = json.dumps(req.json()['message']['items'])\n",
    "#   df = pd.read_json(json_str)\n",
    "#   df.head()\n",
    "#   return df"
   ]
  },
  {
   "cell_type": "code",
   "execution_count": 0,
   "metadata": {
    "colab": {
     "base_uri": "https://localhost:8080/",
     "height": 695
    },
    "colab_type": "code",
    "id": "8td4uinuenFb",
    "outputId": "9c457520-4aa7-4792-cdc2-1a889262070e"
   },
   "outputs": [
    {
     "data": {
      "text/html": [
       "<div>\n",
       "<style scoped>\n",
       "    .dataframe tbody tr th:only-of-type {\n",
       "        vertical-align: middle;\n",
       "    }\n",
       "\n",
       "    .dataframe tbody tr th {\n",
       "        vertical-align: top;\n",
       "    }\n",
       "\n",
       "    .dataframe thead th {\n",
       "        text-align: right;\n",
       "    }\n",
       "</style>\n",
       "<table border=\"1\" class=\"dataframe\">\n",
       "  <thead>\n",
       "    <tr style=\"text-align: right;\">\n",
       "      <th></th>\n",
       "      <th>DOI</th>\n",
       "      <th>ISSN</th>\n",
       "      <th>URL</th>\n",
       "      <th>abstract</th>\n",
       "      <th>author</th>\n",
       "      <th>container-title</th>\n",
       "      <th>content-domain</th>\n",
       "      <th>created</th>\n",
       "      <th>deposited</th>\n",
       "      <th>indexed</th>\n",
       "      <th>...</th>\n",
       "      <th>prefix</th>\n",
       "      <th>published-print</th>\n",
       "      <th>publisher</th>\n",
       "      <th>reference-count</th>\n",
       "      <th>references-count</th>\n",
       "      <th>score</th>\n",
       "      <th>source</th>\n",
       "      <th>title</th>\n",
       "      <th>type</th>\n",
       "      <th>volume</th>\n",
       "    </tr>\n",
       "  </thead>\n",
       "  <tbody>\n",
       "    <tr>\n",
       "      <th>0</th>\n",
       "      <td>10.2478/s11772-013-0089-3</td>\n",
       "      <td>[1896-3757]</td>\n",
       "      <td>http://dx.doi.org/10.2478/s11772-013-0089-3</td>\n",
       "      <td>&lt;jats:title&gt;Abstract&lt;/jats:title&gt;&lt;jats:p&gt;Night...</td>\n",
       "      <td>[{'given': 'K.', 'family': 'Chrzanowski', 'seq...</td>\n",
       "      <td>[Opto-Electronics Review]</td>\n",
       "      <td>{'domain': [], 'crossmark-restriction': False}</td>\n",
       "      <td>{'date-parts': [[2013, 3, 14]], 'date-time': '...</td>\n",
       "      <td>{'date-parts': [[2016, 12, 6]], 'date-time': '...</td>\n",
       "      <td>{'date-parts': [[2019, 2, 13]], 'date-time': '...</td>\n",
       "      <td>...</td>\n",
       "      <td>10.1016</td>\n",
       "      <td>{'date-parts': [[2013, 1, 1]]}</td>\n",
       "      <td>Elsevier BV</td>\n",
       "      <td>1</td>\n",
       "      <td>1</td>\n",
       "      <td>1</td>\n",
       "      <td>Crossref</td>\n",
       "      <td>[Review of night vision technology]</td>\n",
       "      <td>journal-article</td>\n",
       "      <td>21</td>\n",
       "    </tr>\n",
       "    <tr>\n",
       "      <th>1</th>\n",
       "      <td>10.2478/s11772-013-0081-y</td>\n",
       "      <td>[1896-3757]</td>\n",
       "      <td>http://dx.doi.org/10.2478/s11772-013-0081-y</td>\n",
       "      <td>&lt;jats:title&gt;Abstract&lt;/jats:title&gt;&lt;jats:p&gt;Diffe...</td>\n",
       "      <td>[{'given': 'A.', 'family': 'Sokół', 'sequence'...</td>\n",
       "      <td>[Opto-Electronics Review]</td>\n",
       "      <td>{'domain': [], 'crossmark-restriction': False}</td>\n",
       "      <td>{'date-parts': [[2013, 3, 14]], 'date-time': '...</td>\n",
       "      <td>{'date-parts': [[2017, 6, 21]], 'date-time': '...</td>\n",
       "      <td>{'date-parts': [[2019, 2, 13]], 'date-time': '...</td>\n",
       "      <td>...</td>\n",
       "      <td>10.1016</td>\n",
       "      <td>{'date-parts': [[2013, 1, 1]]}</td>\n",
       "      <td>Elsevier BV</td>\n",
       "      <td>7</td>\n",
       "      <td>7</td>\n",
       "      <td>1</td>\n",
       "      <td>Crossref</td>\n",
       "      <td>[Thermal management of GaInNAs/GaAs VECSELs]</td>\n",
       "      <td>journal-article</td>\n",
       "      <td>21</td>\n",
       "    </tr>\n",
       "    <tr>\n",
       "      <th>2</th>\n",
       "      <td>10.2478/s11772-013-0084-8</td>\n",
       "      <td>[1896-3757]</td>\n",
       "      <td>http://dx.doi.org/10.2478/s11772-013-0084-8</td>\n",
       "      <td>&lt;jats:title&gt;Abstract&lt;/jats:title&gt;&lt;jats:p&gt;This ...</td>\n",
       "      <td>[{'given': 'A.', 'family': 'Antończak', 'seque...</td>\n",
       "      <td>[Opto-Electronics Review]</td>\n",
       "      <td>{'domain': [], 'crossmark-restriction': False}</td>\n",
       "      <td>{'date-parts': [[2013, 3, 14]], 'date-time': '...</td>\n",
       "      <td>{'date-parts': [[2017, 6, 21]], 'date-time': '...</td>\n",
       "      <td>{'date-parts': [[2019, 2, 13]], 'date-time': '...</td>\n",
       "      <td>...</td>\n",
       "      <td>10.1016</td>\n",
       "      <td>{'date-parts': [[2013, 1, 1]]}</td>\n",
       "      <td>Elsevier BV</td>\n",
       "      <td>10</td>\n",
       "      <td>10</td>\n",
       "      <td>1</td>\n",
       "      <td>Crossref</td>\n",
       "      <td>[Simple wavelength pre-selection and stabiliza...</td>\n",
       "      <td>journal-article</td>\n",
       "      <td>21</td>\n",
       "    </tr>\n",
       "    <tr>\n",
       "      <th>3</th>\n",
       "      <td>10.2478/s11772-013-0088-4</td>\n",
       "      <td>[1896-3757]</td>\n",
       "      <td>http://dx.doi.org/10.2478/s11772-013-0088-4</td>\n",
       "      <td>&lt;jats:title&gt;Abstract&lt;/jats:title&gt;&lt;jats:p&gt;In th...</td>\n",
       "      <td>[{'given': 'Y.', 'family': 'Chang', 'sequence'...</td>\n",
       "      <td>[Opto-Electronics Review]</td>\n",
       "      <td>{'domain': [], 'crossmark-restriction': False}</td>\n",
       "      <td>{'date-parts': [[2013, 3, 14]], 'date-time': '...</td>\n",
       "      <td>{'date-parts': [[2017, 6, 21]], 'date-time': '...</td>\n",
       "      <td>{'date-parts': [[2019, 2, 13]], 'date-time': '...</td>\n",
       "      <td>...</td>\n",
       "      <td>10.1016</td>\n",
       "      <td>{'date-parts': [[2013, 1, 1]]}</td>\n",
       "      <td>Elsevier BV</td>\n",
       "      <td>28</td>\n",
       "      <td>28</td>\n",
       "      <td>1</td>\n",
       "      <td>Crossref</td>\n",
       "      <td>[A block-based watermarking scheme for image t...</td>\n",
       "      <td>journal-article</td>\n",
       "      <td>21</td>\n",
       "    </tr>\n",
       "    <tr>\n",
       "      <th>4</th>\n",
       "      <td>10.2478/s11772-013-0083-9</td>\n",
       "      <td>[1896-3757]</td>\n",
       "      <td>http://dx.doi.org/10.2478/s11772-013-0083-9</td>\n",
       "      <td>&lt;jats:title&gt;Abstract&lt;/jats:title&gt;&lt;jats:p&gt;Defor...</td>\n",
       "      <td>[{'given': 'G.', 'family': 'Derfel', 'sequence...</td>\n",
       "      <td>[Opto-Electronics Review]</td>\n",
       "      <td>{'domain': [], 'crossmark-restriction': False}</td>\n",
       "      <td>{'date-parts': [[2013, 3, 14]], 'date-time': '...</td>\n",
       "      <td>{'date-parts': [[2017, 6, 21]], 'date-time': '...</td>\n",
       "      <td>{'date-parts': [[2019, 2, 13]], 'date-time': '...</td>\n",
       "      <td>...</td>\n",
       "      <td>10.1016</td>\n",
       "      <td>{'date-parts': [[2013, 1, 1]]}</td>\n",
       "      <td>Elsevier BV</td>\n",
       "      <td>26</td>\n",
       "      <td>26</td>\n",
       "      <td>1</td>\n",
       "      <td>Crossref</td>\n",
       "      <td>[Threshold voltages and optical retardation of...</td>\n",
       "      <td>journal-article</td>\n",
       "      <td>21</td>\n",
       "    </tr>\n",
       "  </tbody>\n",
       "</table>\n",
       "<p>5 rows × 27 columns</p>\n",
       "</div>"
      ],
      "text/plain": [
       "                         DOI         ISSN  \\\n",
       "0  10.2478/s11772-013-0089-3  [1896-3757]   \n",
       "1  10.2478/s11772-013-0081-y  [1896-3757]   \n",
       "2  10.2478/s11772-013-0084-8  [1896-3757]   \n",
       "3  10.2478/s11772-013-0088-4  [1896-3757]   \n",
       "4  10.2478/s11772-013-0083-9  [1896-3757]   \n",
       "\n",
       "                                           URL  \\\n",
       "0  http://dx.doi.org/10.2478/s11772-013-0089-3   \n",
       "1  http://dx.doi.org/10.2478/s11772-013-0081-y   \n",
       "2  http://dx.doi.org/10.2478/s11772-013-0084-8   \n",
       "3  http://dx.doi.org/10.2478/s11772-013-0088-4   \n",
       "4  http://dx.doi.org/10.2478/s11772-013-0083-9   \n",
       "\n",
       "                                            abstract  \\\n",
       "0  <jats:title>Abstract</jats:title><jats:p>Night...   \n",
       "1  <jats:title>Abstract</jats:title><jats:p>Diffe...   \n",
       "2  <jats:title>Abstract</jats:title><jats:p>This ...   \n",
       "3  <jats:title>Abstract</jats:title><jats:p>In th...   \n",
       "4  <jats:title>Abstract</jats:title><jats:p>Defor...   \n",
       "\n",
       "                                              author  \\\n",
       "0  [{'given': 'K.', 'family': 'Chrzanowski', 'seq...   \n",
       "1  [{'given': 'A.', 'family': 'Sokół', 'sequence'...   \n",
       "2  [{'given': 'A.', 'family': 'Antończak', 'seque...   \n",
       "3  [{'given': 'Y.', 'family': 'Chang', 'sequence'...   \n",
       "4  [{'given': 'G.', 'family': 'Derfel', 'sequence...   \n",
       "\n",
       "             container-title                                  content-domain  \\\n",
       "0  [Opto-Electronics Review]  {'domain': [], 'crossmark-restriction': False}   \n",
       "1  [Opto-Electronics Review]  {'domain': [], 'crossmark-restriction': False}   \n",
       "2  [Opto-Electronics Review]  {'domain': [], 'crossmark-restriction': False}   \n",
       "3  [Opto-Electronics Review]  {'domain': [], 'crossmark-restriction': False}   \n",
       "4  [Opto-Electronics Review]  {'domain': [], 'crossmark-restriction': False}   \n",
       "\n",
       "                                             created  \\\n",
       "0  {'date-parts': [[2013, 3, 14]], 'date-time': '...   \n",
       "1  {'date-parts': [[2013, 3, 14]], 'date-time': '...   \n",
       "2  {'date-parts': [[2013, 3, 14]], 'date-time': '...   \n",
       "3  {'date-parts': [[2013, 3, 14]], 'date-time': '...   \n",
       "4  {'date-parts': [[2013, 3, 14]], 'date-time': '...   \n",
       "\n",
       "                                           deposited  \\\n",
       "0  {'date-parts': [[2016, 12, 6]], 'date-time': '...   \n",
       "1  {'date-parts': [[2017, 6, 21]], 'date-time': '...   \n",
       "2  {'date-parts': [[2017, 6, 21]], 'date-time': '...   \n",
       "3  {'date-parts': [[2017, 6, 21]], 'date-time': '...   \n",
       "4  {'date-parts': [[2017, 6, 21]], 'date-time': '...   \n",
       "\n",
       "                                             indexed  ...     prefix  \\\n",
       "0  {'date-parts': [[2019, 2, 13]], 'date-time': '...  ...    10.1016   \n",
       "1  {'date-parts': [[2019, 2, 13]], 'date-time': '...  ...    10.1016   \n",
       "2  {'date-parts': [[2019, 2, 13]], 'date-time': '...  ...    10.1016   \n",
       "3  {'date-parts': [[2019, 2, 13]], 'date-time': '...  ...    10.1016   \n",
       "4  {'date-parts': [[2019, 2, 13]], 'date-time': '...  ...    10.1016   \n",
       "\n",
       "                  published-print    publisher reference-count  \\\n",
       "0  {'date-parts': [[2013, 1, 1]]}  Elsevier BV               1   \n",
       "1  {'date-parts': [[2013, 1, 1]]}  Elsevier BV               7   \n",
       "2  {'date-parts': [[2013, 1, 1]]}  Elsevier BV              10   \n",
       "3  {'date-parts': [[2013, 1, 1]]}  Elsevier BV              28   \n",
       "4  {'date-parts': [[2013, 1, 1]]}  Elsevier BV              26   \n",
       "\n",
       "  references-count score    source  \\\n",
       "0                1     1  Crossref   \n",
       "1                7     1  Crossref   \n",
       "2               10     1  Crossref   \n",
       "3               28     1  Crossref   \n",
       "4               26     1  Crossref   \n",
       "\n",
       "                                               title             type volume  \n",
       "0                [Review of night vision technology]  journal-article     21  \n",
       "1       [Thermal management of GaInNAs/GaAs VECSELs]  journal-article     21  \n",
       "2  [Simple wavelength pre-selection and stabiliza...  journal-article     21  \n",
       "3  [A block-based watermarking scheme for image t...  journal-article     21  \n",
       "4  [Threshold voltages and optical retardation of...  journal-article     21  \n",
       "\n",
       "[5 rows x 27 columns]"
      ]
     },
     "execution_count": 32,
     "metadata": {
      "tags": []
     },
     "output_type": "execute_result"
    }
   ],
   "source": [
    "df_101016 = getDfByJournal(\"10.1016/j.enbuild\" , 10)\n",
    "df_101016.head()"
   ]
  },
  {
   "cell_type": "code",
   "execution_count": 0,
   "metadata": {
    "colab": {},
    "colab_type": "code",
    "id": "roC0lYnhfGnE"
   },
   "outputs": [],
   "source": []
  },
  {
   "cell_type": "code",
   "execution_count": 0,
   "metadata": {
    "colab": {
     "base_uri": "https://localhost:8080/",
     "height": 661
    },
    "colab_type": "code",
    "id": "GgFteb26Lsbo",
    "outputId": "453f048e-6a59-475a-8c8c-b6269c85d7e6"
   },
   "outputs": [
    {
     "data": {
      "text/html": [
       "<div>\n",
       "<style scoped>\n",
       "    .dataframe tbody tr th:only-of-type {\n",
       "        vertical-align: middle;\n",
       "    }\n",
       "\n",
       "    .dataframe tbody tr th {\n",
       "        vertical-align: top;\n",
       "    }\n",
       "\n",
       "    .dataframe thead th {\n",
       "        text-align: right;\n",
       "    }\n",
       "</style>\n",
       "<table border=\"1\" class=\"dataframe\">\n",
       "  <thead>\n",
       "    <tr style=\"text-align: right;\">\n",
       "      <th></th>\n",
       "      <th>DOI</th>\n",
       "      <th>ISBN</th>\n",
       "      <th>ISSN</th>\n",
       "      <th>URL</th>\n",
       "      <th>abstract</th>\n",
       "      <th>alternative-id</th>\n",
       "      <th>archive</th>\n",
       "      <th>article-number</th>\n",
       "      <th>assertion</th>\n",
       "      <th>author</th>\n",
       "      <th>...</th>\n",
       "      <th>score</th>\n",
       "      <th>short-container-title</th>\n",
       "      <th>source</th>\n",
       "      <th>subject</th>\n",
       "      <th>subtitle</th>\n",
       "      <th>title</th>\n",
       "      <th>type</th>\n",
       "      <th>update-policy</th>\n",
       "      <th>update-to</th>\n",
       "      <th>volume</th>\n",
       "    </tr>\n",
       "  </thead>\n",
       "  <tbody>\n",
       "    <tr>\n",
       "      <th>0</th>\n",
       "      <td>10.1039/c4cs00164h</td>\n",
       "      <td>NaN</td>\n",
       "      <td>[0306-0012, 1460-4744]</td>\n",
       "      <td>http://dx.doi.org/10.1039/c4cs00164h</td>\n",
       "      <td>&lt;p&gt;Bio-inspired nano-materials can be formed b...</td>\n",
       "      <td>NaN</td>\n",
       "      <td>NaN</td>\n",
       "      <td>NaN</td>\n",
       "      <td>[{'value': 'This document is CrossCheck deposi...</td>\n",
       "      <td>[{'given': 'Lihi', 'family': 'Adler-Abramovich...</td>\n",
       "      <td>...</td>\n",
       "      <td>5.511604</td>\n",
       "      <td>[Chem. Soc. Rev.]</td>\n",
       "      <td>Crossref</td>\n",
       "      <td>NaN</td>\n",
       "      <td>NaN</td>\n",
       "      <td>[The physical properties of supramolecular pep...</td>\n",
       "      <td>journal-article</td>\n",
       "      <td>http://dx.doi.org/10.1039/rsc_crossmark_policy</td>\n",
       "      <td>NaN</td>\n",
       "      <td>43</td>\n",
       "    </tr>\n",
       "    <tr>\n",
       "      <th>1</th>\n",
       "      <td>10.1039/c4cs00002a</td>\n",
       "      <td>NaN</td>\n",
       "      <td>[0306-0012, 1460-4744]</td>\n",
       "      <td>http://dx.doi.org/10.1039/c4cs00002a</td>\n",
       "      <td>&lt;p&gt;This review examines the governing factors ...</td>\n",
       "      <td>NaN</td>\n",
       "      <td>NaN</td>\n",
       "      <td>NaN</td>\n",
       "      <td>[{'value': 'This document is CrossCheck deposi...</td>\n",
       "      <td>[{'given': 'C. K.', 'family': 'Brozek', 'seque...</td>\n",
       "      <td>...</td>\n",
       "      <td>5.511604</td>\n",
       "      <td>[Chem. Soc. Rev.]</td>\n",
       "      <td>Crossref</td>\n",
       "      <td>NaN</td>\n",
       "      <td>NaN</td>\n",
       "      <td>[Cation exchange at the secondary building uni...</td>\n",
       "      <td>journal-article</td>\n",
       "      <td>http://dx.doi.org/10.1039/rsc_crossmark_policy</td>\n",
       "      <td>NaN</td>\n",
       "      <td>43</td>\n",
       "    </tr>\n",
       "    <tr>\n",
       "      <th>2</th>\n",
       "      <td>10.1107/s1399004714021683</td>\n",
       "      <td>NaN</td>\n",
       "      <td>[1399-0047]</td>\n",
       "      <td>http://dx.doi.org/10.1107/s1399004714021683</td>\n",
       "      <td>&lt;jats:p&gt;The recent rapid development of single...</td>\n",
       "      <td>[S1399004714021683]</td>\n",
       "      <td>NaN</td>\n",
       "      <td>NaN</td>\n",
       "      <td>[{'value': 'Acta Crystallographica Section D: ...</td>\n",
       "      <td>[{'given': 'Alan', 'family': 'Brown', 'sequenc...</td>\n",
       "      <td>...</td>\n",
       "      <td>3.037635</td>\n",
       "      <td>[Acta Cryst D Biol Crystallogr, Acta Cryst D B...</td>\n",
       "      <td>Crossref</td>\n",
       "      <td>NaN</td>\n",
       "      <td>NaN</td>\n",
       "      <td>[Tools for macromolecular model building and r...</td>\n",
       "      <td>journal-article</td>\n",
       "      <td>http://dx.doi.org/10.1107/cm_01</td>\n",
       "      <td>NaN</td>\n",
       "      <td>71</td>\n",
       "    </tr>\n",
       "    <tr>\n",
       "      <th>3</th>\n",
       "      <td>10.1039/c4cc00339j</td>\n",
       "      <td>NaN</td>\n",
       "      <td>[1359-7345, 1364-548X]</td>\n",
       "      <td>http://dx.doi.org/10.1039/c4cc00339j</td>\n",
       "      <td>&lt;p&gt;This Feature article focuses on the use of ...</td>\n",
       "      <td>NaN</td>\n",
       "      <td>NaN</td>\n",
       "      <td>NaN</td>\n",
       "      <td>[{'value': 'This document is CrossCheck deposi...</td>\n",
       "      <td>[{'given': 'Kasper S.', 'family': 'Pedersen', ...</td>\n",
       "      <td>...</td>\n",
       "      <td>6.408706</td>\n",
       "      <td>[Chem. Commun.]</td>\n",
       "      <td>Crossref</td>\n",
       "      <td>NaN</td>\n",
       "      <td>NaN</td>\n",
       "      <td>[Single-molecule magnet engineering: building-...</td>\n",
       "      <td>journal-article</td>\n",
       "      <td>http://dx.doi.org/10.1039/rsc_crossmark_policy</td>\n",
       "      <td>NaN</td>\n",
       "      <td>50</td>\n",
       "    </tr>\n",
       "    <tr>\n",
       "      <th>4</th>\n",
       "      <td>10.1609/aimag.v31i3.2303</td>\n",
       "      <td>NaN</td>\n",
       "      <td>[0738-4602, 0738-4602]</td>\n",
       "      <td>http://dx.doi.org/10.1609/aimag.v31i3.2303</td>\n",
       "      <td>&lt;jats:p&gt;IBM Research undertook a challenge to ...</td>\n",
       "      <td>NaN</td>\n",
       "      <td>NaN</td>\n",
       "      <td>NaN</td>\n",
       "      <td>NaN</td>\n",
       "      <td>[{'given': 'David', 'family': 'Ferrucci', 'seq...</td>\n",
       "      <td>...</td>\n",
       "      <td>4.382310</td>\n",
       "      <td>[AIMag]</td>\n",
       "      <td>Crossref</td>\n",
       "      <td>NaN</td>\n",
       "      <td>NaN</td>\n",
       "      <td>[Building Watson: An Overview of the DeepQA Pr...</td>\n",
       "      <td>journal-article</td>\n",
       "      <td>NaN</td>\n",
       "      <td>NaN</td>\n",
       "      <td>31</td>\n",
       "    </tr>\n",
       "  </tbody>\n",
       "</table>\n",
       "<p>5 rows × 47 columns</p>\n",
       "</div>"
      ],
      "text/plain": [
       "                         DOI ISBN                    ISSN  \\\n",
       "0         10.1039/c4cs00164h  NaN  [0306-0012, 1460-4744]   \n",
       "1         10.1039/c4cs00002a  NaN  [0306-0012, 1460-4744]   \n",
       "2  10.1107/s1399004714021683  NaN             [1399-0047]   \n",
       "3         10.1039/c4cc00339j  NaN  [1359-7345, 1364-548X]   \n",
       "4   10.1609/aimag.v31i3.2303  NaN  [0738-4602, 0738-4602]   \n",
       "\n",
       "                                           URL  \\\n",
       "0         http://dx.doi.org/10.1039/c4cs00164h   \n",
       "1         http://dx.doi.org/10.1039/c4cs00002a   \n",
       "2  http://dx.doi.org/10.1107/s1399004714021683   \n",
       "3         http://dx.doi.org/10.1039/c4cc00339j   \n",
       "4   http://dx.doi.org/10.1609/aimag.v31i3.2303   \n",
       "\n",
       "                                            abstract       alternative-id  \\\n",
       "0  <p>Bio-inspired nano-materials can be formed b...                  NaN   \n",
       "1  <p>This review examines the governing factors ...                  NaN   \n",
       "2  <jats:p>The recent rapid development of single...  [S1399004714021683]   \n",
       "3  <p>This Feature article focuses on the use of ...                  NaN   \n",
       "4  <jats:p>IBM Research undertook a challenge to ...                  NaN   \n",
       "\n",
       "  archive article-number                                          assertion  \\\n",
       "0     NaN            NaN  [{'value': 'This document is CrossCheck deposi...   \n",
       "1     NaN            NaN  [{'value': 'This document is CrossCheck deposi...   \n",
       "2     NaN            NaN  [{'value': 'Acta Crystallographica Section D: ...   \n",
       "3     NaN            NaN  [{'value': 'This document is CrossCheck deposi...   \n",
       "4     NaN            NaN                                                NaN   \n",
       "\n",
       "                                              author  ...       score  \\\n",
       "0  [{'given': 'Lihi', 'family': 'Adler-Abramovich...  ...    5.511604   \n",
       "1  [{'given': 'C. K.', 'family': 'Brozek', 'seque...  ...    5.511604   \n",
       "2  [{'given': 'Alan', 'family': 'Brown', 'sequenc...  ...    3.037635   \n",
       "3  [{'given': 'Kasper S.', 'family': 'Pedersen', ...  ...    6.408706   \n",
       "4  [{'given': 'David', 'family': 'Ferrucci', 'seq...  ...    4.382310   \n",
       "\n",
       "                               short-container-title    source subject  \\\n",
       "0                                  [Chem. Soc. Rev.]  Crossref     NaN   \n",
       "1                                  [Chem. Soc. Rev.]  Crossref     NaN   \n",
       "2  [Acta Cryst D Biol Crystallogr, Acta Cryst D B...  Crossref     NaN   \n",
       "3                                    [Chem. Commun.]  Crossref     NaN   \n",
       "4                                            [AIMag]  Crossref     NaN   \n",
       "\n",
       "  subtitle                                              title  \\\n",
       "0      NaN  [The physical properties of supramolecular pep...   \n",
       "1      NaN  [Cation exchange at the secondary building uni...   \n",
       "2      NaN  [Tools for macromolecular model building and r...   \n",
       "3      NaN  [Single-molecule magnet engineering: building-...   \n",
       "4      NaN  [Building Watson: An Overview of the DeepQA Pr...   \n",
       "\n",
       "              type                                   update-policy update-to  \\\n",
       "0  journal-article  http://dx.doi.org/10.1039/rsc_crossmark_policy       NaN   \n",
       "1  journal-article  http://dx.doi.org/10.1039/rsc_crossmark_policy       NaN   \n",
       "2  journal-article                 http://dx.doi.org/10.1107/cm_01       NaN   \n",
       "3  journal-article  http://dx.doi.org/10.1039/rsc_crossmark_policy       NaN   \n",
       "4  journal-article                                             NaN       NaN   \n",
       "\n",
       "  volume  \n",
       "0     43  \n",
       "1     43  \n",
       "2     71  \n",
       "3     50  \n",
       "4     31  \n",
       "\n",
       "[5 rows x 47 columns]"
      ]
     },
     "execution_count": 65,
     "metadata": {
      "tags": []
     },
     "output_type": "execute_result"
    }
   ],
   "source": [
    "url = \"http://api.crossref.org/works?query=building&filter=has-abstract:true&sort=is-referenced-by-count&rows=1000\" \n",
    "headers={\"Accept\": \"application/json\"}\n",
    "req = requests.get(url, headers=headers)\n",
    "json_str = json.dumps(req.json()['message']['items'])\n",
    "df = pd.read_json(json_str)\n",
    "df.head()"
   ]
  },
  {
   "cell_type": "code",
   "execution_count": 0,
   "metadata": {
    "colab": {},
    "colab_type": "code",
    "id": "AqtzEbl1knGH"
   },
   "outputs": [],
   "source": []
  },
  {
   "cell_type": "code",
   "execution_count": 0,
   "metadata": {
    "colab": {},
    "colab_type": "code",
    "id": "IuuKTceXjEDu"
   },
   "outputs": [],
   "source": [
    "df['container-title'] = df['container-title'].apply(lambda x: listToItem(x))\n",
    "df['ISSN'] = df['ISSN'].apply(lambda x: listToItem(x))"
   ]
  },
  {
   "cell_type": "markdown",
   "metadata": {
    "colab_type": "text",
    "id": "1qx80jq2m1IU"
   },
   "source": []
  },
  {
   "cell_type": "code",
   "execution_count": 0,
   "metadata": {
    "colab": {
     "base_uri": "https://localhost:8080/",
     "height": 34
    },
    "colab_type": "code",
    "id": "D2Xy_HRuk2Ka",
    "outputId": "520c2154-68d5-4e5a-fd64-bf19107c96e4"
   },
   "outputs": [
    {
     "data": {
      "text/plain": [
       "['Construction Economics and Building']"
      ]
     },
     "execution_count": 142,
     "metadata": {
      "tags": []
     },
     "output_type": "execute_result"
    }
   ],
   "source": [
    "# issnList = list(df['ISSN'].value_counts().keys())\n",
    "df = getDfByJournal(issnList[0], 1000)\n",
    "# for issn in issnList[1:10]:\n",
    "#   df.append(getDfByJournal(issn, 10))\n",
    "df['container-title'].iloc[0]"
   ]
  },
  {
   "cell_type": "code",
   "execution_count": 0,
   "metadata": {
    "colab": {
     "base_uri": "https://localhost:8080/",
     "height": 323
    },
    "colab_type": "code",
    "id": "5v2HykuyuPKE",
    "outputId": "1f83eca4-85da-4a40-e03c-30eb97fd2a15"
   },
   "outputs": [
    {
     "name": "stdout",
     "output_type": "stream",
     "text": [
      "1359-7345\n",
      "['Chem. Commun.']\n",
      "1477-9226\n",
      "['Dalton Transactions']\n",
      "1392-3730\n",
      "['JOURNAL OF CIVIL ENGINEERING AND MANAGEMENT']\n",
      "1662-8985\n",
      "['Advanced Materials Research']\n",
      "2046-2069\n",
      "['RSC Adv.']\n",
      "1662-7482\n",
      "['Applied Mechanics and Materials']\n",
      "0090-5992\n",
      "['Nationalities Papers']\n",
      "2050-7488\n",
      "['J. Mater. Chem. A']\n",
      "1684-9981\n",
      "['Natural Hazards and Earth System Sciences']\n"
     ]
    }
   ],
   "source": [
    "for issn in issnList[1:10]:\n",
    "  print(issn)\n",
    "  df = df.append(getDfByJournal(issn, 1000))\n",
    "  print(df['container-title'].iloc[-1])"
   ]
  },
  {
   "cell_type": "code",
   "execution_count": 0,
   "metadata": {
    "colab": {},
    "colab_type": "code",
    "id": "pPkASfsGv2sy"
   },
   "outputs": [],
   "source": [
    "df.to_csv('10J1000.csv')\n",
    "files.download('10J1000.csv')"
   ]
  },
  {
   "cell_type": "code",
   "execution_count": 0,
   "metadata": {
    "colab": {
     "base_uri": "https://localhost:8080/",
     "height": 34
    },
    "colab_type": "code",
    "id": "NFWKduG-tfVw",
    "outputId": "6b599312-fce5-46d0-be99-d077326be052"
   },
   "outputs": [
    {
     "data": {
      "text/plain": [
       "['Chemical Communications']"
      ]
     },
     "execution_count": 126,
     "metadata": {
      "tags": []
     },
     "output_type": "execute_result"
    }
   ],
   "source": [
    "df2 = getDfByJournal(issnList[1], 10)\n",
    "\n",
    "df2['container-title'].iloc[0]"
   ]
  },
  {
   "cell_type": "code",
   "execution_count": 0,
   "metadata": {
    "colab": {
     "base_uri": "https://localhost:8080/",
     "height": 34
    },
    "colab_type": "code",
    "id": "fyPFTehCuFbB",
    "outputId": "9022f11f-f471-4b4d-daf3-f64f7f5798ab"
   },
   "outputs": [
    {
     "data": {
      "text/plain": [
       "['Dalton Transactions']"
      ]
     },
     "execution_count": 127,
     "metadata": {
      "tags": []
     },
     "output_type": "execute_result"
    }
   ],
   "source": [
    "df3 = getDfByJournal(issnList[2], 10)\n",
    "\n",
    "df3['container-title'].iloc[0]"
   ]
  },
  {
   "cell_type": "code",
   "execution_count": 0,
   "metadata": {
    "colab": {},
    "colab_type": "code",
    "id": "n5QI91VdlotW"
   },
   "outputs": [],
   "source": [
    "def getDfByJournal(issn, nrows):\n",
    "  url = \"https://api.crossref.org/journals/\"+issn+\"/works?filter=has-abstract:true&rows=\"+str(nrows)\n",
    "  headers={\"Accept\": \"application/json\"}\n",
    "  req = requests.get(url, headers=headers)\n",
    "  json_str = json.dumps(req.json()['message']['items'])\n",
    "  df = pd.read_json(json_str)\n",
    "  df.head()\n",
    "  return df"
   ]
  },
  {
   "cell_type": "code",
   "execution_count": 0,
   "metadata": {
    "colab": {},
    "colab_type": "code",
    "id": "B7YKfSiWl7fV"
   },
   "outputs": [],
   "source": [
    "df1 = getDfByJournal(\"2204-9029\", 10)"
   ]
  },
  {
   "cell_type": "code",
   "execution_count": 0,
   "metadata": {
    "colab": {
     "base_uri": "https://localhost:8080/",
     "height": 712
    },
    "colab_type": "code",
    "id": "IV-KLzV1pKvH",
    "outputId": "3dfa59b9-0467-44dc-b0f0-64a48fa78e1c"
   },
   "outputs": [
    {
     "data": {
      "text/html": [
       "<div>\n",
       "<style scoped>\n",
       "    .dataframe tbody tr th:only-of-type {\n",
       "        vertical-align: middle;\n",
       "    }\n",
       "\n",
       "    .dataframe tbody tr th {\n",
       "        vertical-align: top;\n",
       "    }\n",
       "\n",
       "    .dataframe thead th {\n",
       "        text-align: right;\n",
       "    }\n",
       "</style>\n",
       "<table border=\"1\" class=\"dataframe\">\n",
       "  <thead>\n",
       "    <tr style=\"text-align: right;\">\n",
       "      <th></th>\n",
       "      <th>DOI</th>\n",
       "      <th>ISSN</th>\n",
       "      <th>URL</th>\n",
       "      <th>abstract</th>\n",
       "      <th>author</th>\n",
       "      <th>container-title</th>\n",
       "      <th>content-domain</th>\n",
       "      <th>created</th>\n",
       "      <th>deposited</th>\n",
       "      <th>indexed</th>\n",
       "      <th>...</th>\n",
       "      <th>reference</th>\n",
       "      <th>reference-count</th>\n",
       "      <th>references-count</th>\n",
       "      <th>relation</th>\n",
       "      <th>score</th>\n",
       "      <th>short-container-title</th>\n",
       "      <th>source</th>\n",
       "      <th>title</th>\n",
       "      <th>type</th>\n",
       "      <th>volume</th>\n",
       "    </tr>\n",
       "  </thead>\n",
       "  <tbody>\n",
       "    <tr>\n",
       "      <th>393</th>\n",
       "      <td>10.5130/ajceb.v14i3.4158</td>\n",
       "      <td>[2204-9029]</td>\n",
       "      <td>http://dx.doi.org/10.5130/ajceb.v14i3.4158</td>\n",
       "      <td>&lt;jats:p&gt;A book review of “Best Practice in Con...</td>\n",
       "      <td>[{'given': 'Philip', 'family': 'Chan', 'sequen...</td>\n",
       "      <td>[Construction Economics and Building]</td>\n",
       "      <td>{'domain': [], 'crossmark-restriction': False}</td>\n",
       "      <td>{'date-parts': [[2014, 10, 1]], 'date-time': '...</td>\n",
       "      <td>{'date-parts': [[2018, 10, 11]], 'date-time': ...</td>\n",
       "      <td>{'date-parts': [[2019, 3, 6]], 'date-time': '2...</td>\n",
       "      <td>...</td>\n",
       "      <td>NaN</td>\n",
       "      <td>0</td>\n",
       "      <td>0</td>\n",
       "      <td>NaN</td>\n",
       "      <td>1</td>\n",
       "      <td>[CEB]</td>\n",
       "      <td>Crossref</td>\n",
       "      <td>[A book review of “Best Practice in Constructi...</td>\n",
       "      <td>journal-article</td>\n",
       "      <td>14</td>\n",
       "    </tr>\n",
       "    <tr>\n",
       "      <th>394</th>\n",
       "      <td>10.5130/ajceb.v9i1.3011</td>\n",
       "      <td>[2204-9029]</td>\n",
       "      <td>http://dx.doi.org/10.5130/ajceb.v9i1.3011</td>\n",
       "      <td>&lt;jats:p&gt;Public-private partnership (PPP) proje...</td>\n",
       "      <td>[{'given': 'Xioa-Hua', 'family': 'Jin', 'seque...</td>\n",
       "      <td>[Construction Economics and Building]</td>\n",
       "      <td>{'domain': [], 'crossmark-restriction': False}</td>\n",
       "      <td>{'date-parts': [[2014, 10, 1]], 'date-time': '...</td>\n",
       "      <td>{'date-parts': [[2018, 10, 8]], 'date-time': '...</td>\n",
       "      <td>{'date-parts': [[2019, 3, 22]], 'date-time': '...</td>\n",
       "      <td>...</td>\n",
       "      <td>NaN</td>\n",
       "      <td>0</td>\n",
       "      <td>0</td>\n",
       "      <td>NaN</td>\n",
       "      <td>1</td>\n",
       "      <td>[CEB]</td>\n",
       "      <td>Crossref</td>\n",
       "      <td>[Allocating Risks in Public-Private Partnershi...</td>\n",
       "      <td>journal-article</td>\n",
       "      <td>9</td>\n",
       "    </tr>\n",
       "    <tr>\n",
       "      <th>395</th>\n",
       "      <td>10.5130/ajceb.v11i3.2174</td>\n",
       "      <td>[2204-9029]</td>\n",
       "      <td>http://dx.doi.org/10.5130/ajceb.v11i3.2174</td>\n",
       "      <td>&lt;jats:p&gt;New housing supply in Australia has be...</td>\n",
       "      <td>[{'given': 'Junxiao', 'family': 'Liu', 'sequen...</td>\n",
       "      <td>[Construction Economics and Building]</td>\n",
       "      <td>{'domain': [], 'crossmark-restriction': False}</td>\n",
       "      <td>{'date-parts': [[2014, 10, 1]], 'date-time': '...</td>\n",
       "      <td>{'date-parts': [[2018, 10, 8]], 'date-time': '...</td>\n",
       "      <td>{'date-parts': [[2019, 3, 27]], 'date-time': '...</td>\n",
       "      <td>...</td>\n",
       "      <td>NaN</td>\n",
       "      <td>0</td>\n",
       "      <td>0</td>\n",
       "      <td>NaN</td>\n",
       "      <td>1</td>\n",
       "      <td>[CEB]</td>\n",
       "      <td>Crossref</td>\n",
       "      <td>[Analysing the Relationship between New Housin...</td>\n",
       "      <td>journal-article</td>\n",
       "      <td>11</td>\n",
       "    </tr>\n",
       "    <tr>\n",
       "      <th>396</th>\n",
       "      <td>10.5130/ajceb.v16i3.5178</td>\n",
       "      <td>[2204-9029]</td>\n",
       "      <td>http://dx.doi.org/10.5130/ajceb.v16i3.5178</td>\n",
       "      <td>&lt;jats:p&gt;Innovation is key for productivity imp...</td>\n",
       "      <td>[{'given': 'Peter', 'family': 'Davis', 'sequen...</td>\n",
       "      <td>[Construction Economics and Building]</td>\n",
       "      <td>{'domain': [], 'crossmark-restriction': False}</td>\n",
       "      <td>{'date-parts': [[2016, 10, 26]], 'date-time': ...</td>\n",
       "      <td>{'date-parts': [[2018, 10, 8]], 'date-time': '...</td>\n",
       "      <td>{'date-parts': [[2019, 3, 29]], 'date-time': '...</td>\n",
       "      <td>...</td>\n",
       "      <td>NaN</td>\n",
       "      <td>0</td>\n",
       "      <td>0</td>\n",
       "      <td>NaN</td>\n",
       "      <td>1</td>\n",
       "      <td>[CEB]</td>\n",
       "      <td>Crossref</td>\n",
       "      <td>[Assessing construction innovation: theoretica...</td>\n",
       "      <td>journal-article</td>\n",
       "      <td>16</td>\n",
       "    </tr>\n",
       "    <tr>\n",
       "      <th>397</th>\n",
       "      <td>10.5130/ajceb.v13i3.3280</td>\n",
       "      <td>[2204-9029]</td>\n",
       "      <td>http://dx.doi.org/10.5130/ajceb.v13i3.3280</td>\n",
       "      <td>&lt;jats:p&gt;CorporateSocial Responsibility (CSR), ...</td>\n",
       "      <td>[{'given': 'Lisa Robyn', 'family': 'Barnes', '...</td>\n",
       "      <td>[Construction Economics and Building]</td>\n",
       "      <td>{'domain': [], 'crossmark-restriction': False}</td>\n",
       "      <td>{'date-parts': [[2014, 10, 1]], 'date-time': '...</td>\n",
       "      <td>{'date-parts': [[2018, 10, 8]], 'date-time': '...</td>\n",
       "      <td>{'date-parts': [[2019, 3, 30]], 'date-time': '...</td>\n",
       "      <td>...</td>\n",
       "      <td>NaN</td>\n",
       "      <td>0</td>\n",
       "      <td>0</td>\n",
       "      <td>NaN</td>\n",
       "      <td>1</td>\n",
       "      <td>[CEB]</td>\n",
       "      <td>Crossref</td>\n",
       "      <td>[The relevance of the ISO26000 social responsi...</td>\n",
       "      <td>journal-article</td>\n",
       "      <td>13</td>\n",
       "    </tr>\n",
       "  </tbody>\n",
       "</table>\n",
       "<p>5 rows × 32 columns</p>\n",
       "</div>"
      ],
      "text/plain": [
       "                          DOI         ISSN  \\\n",
       "393  10.5130/ajceb.v14i3.4158  [2204-9029]   \n",
       "394   10.5130/ajceb.v9i1.3011  [2204-9029]   \n",
       "395  10.5130/ajceb.v11i3.2174  [2204-9029]   \n",
       "396  10.5130/ajceb.v16i3.5178  [2204-9029]   \n",
       "397  10.5130/ajceb.v13i3.3280  [2204-9029]   \n",
       "\n",
       "                                            URL  \\\n",
       "393  http://dx.doi.org/10.5130/ajceb.v14i3.4158   \n",
       "394   http://dx.doi.org/10.5130/ajceb.v9i1.3011   \n",
       "395  http://dx.doi.org/10.5130/ajceb.v11i3.2174   \n",
       "396  http://dx.doi.org/10.5130/ajceb.v16i3.5178   \n",
       "397  http://dx.doi.org/10.5130/ajceb.v13i3.3280   \n",
       "\n",
       "                                              abstract  \\\n",
       "393  <jats:p>A book review of “Best Practice in Con...   \n",
       "394  <jats:p>Public-private partnership (PPP) proje...   \n",
       "395  <jats:p>New housing supply in Australia has be...   \n",
       "396  <jats:p>Innovation is key for productivity imp...   \n",
       "397  <jats:p>CorporateSocial Responsibility (CSR), ...   \n",
       "\n",
       "                                                author  \\\n",
       "393  [{'given': 'Philip', 'family': 'Chan', 'sequen...   \n",
       "394  [{'given': 'Xioa-Hua', 'family': 'Jin', 'seque...   \n",
       "395  [{'given': 'Junxiao', 'family': 'Liu', 'sequen...   \n",
       "396  [{'given': 'Peter', 'family': 'Davis', 'sequen...   \n",
       "397  [{'given': 'Lisa Robyn', 'family': 'Barnes', '...   \n",
       "\n",
       "                           container-title  \\\n",
       "393  [Construction Economics and Building]   \n",
       "394  [Construction Economics and Building]   \n",
       "395  [Construction Economics and Building]   \n",
       "396  [Construction Economics and Building]   \n",
       "397  [Construction Economics and Building]   \n",
       "\n",
       "                                     content-domain  \\\n",
       "393  {'domain': [], 'crossmark-restriction': False}   \n",
       "394  {'domain': [], 'crossmark-restriction': False}   \n",
       "395  {'domain': [], 'crossmark-restriction': False}   \n",
       "396  {'domain': [], 'crossmark-restriction': False}   \n",
       "397  {'domain': [], 'crossmark-restriction': False}   \n",
       "\n",
       "                                               created  \\\n",
       "393  {'date-parts': [[2014, 10, 1]], 'date-time': '...   \n",
       "394  {'date-parts': [[2014, 10, 1]], 'date-time': '...   \n",
       "395  {'date-parts': [[2014, 10, 1]], 'date-time': '...   \n",
       "396  {'date-parts': [[2016, 10, 26]], 'date-time': ...   \n",
       "397  {'date-parts': [[2014, 10, 1]], 'date-time': '...   \n",
       "\n",
       "                                             deposited  \\\n",
       "393  {'date-parts': [[2018, 10, 11]], 'date-time': ...   \n",
       "394  {'date-parts': [[2018, 10, 8]], 'date-time': '...   \n",
       "395  {'date-parts': [[2018, 10, 8]], 'date-time': '...   \n",
       "396  {'date-parts': [[2018, 10, 8]], 'date-time': '...   \n",
       "397  {'date-parts': [[2018, 10, 8]], 'date-time': '...   \n",
       "\n",
       "                                               indexed   ...    reference  \\\n",
       "393  {'date-parts': [[2019, 3, 6]], 'date-time': '2...   ...          NaN   \n",
       "394  {'date-parts': [[2019, 3, 22]], 'date-time': '...   ...          NaN   \n",
       "395  {'date-parts': [[2019, 3, 27]], 'date-time': '...   ...          NaN   \n",
       "396  {'date-parts': [[2019, 3, 29]], 'date-time': '...   ...          NaN   \n",
       "397  {'date-parts': [[2019, 3, 30]], 'date-time': '...   ...          NaN   \n",
       "\n",
       "    reference-count references-count relation score short-container-title  \\\n",
       "393               0                0      NaN     1                 [CEB]   \n",
       "394               0                0      NaN     1                 [CEB]   \n",
       "395               0                0      NaN     1                 [CEB]   \n",
       "396               0                0      NaN     1                 [CEB]   \n",
       "397               0                0      NaN     1                 [CEB]   \n",
       "\n",
       "       source                                              title  \\\n",
       "393  Crossref  [A book review of “Best Practice in Constructi...   \n",
       "394  Crossref  [Allocating Risks in Public-Private Partnershi...   \n",
       "395  Crossref  [Analysing the Relationship between New Housin...   \n",
       "396  Crossref  [Assessing construction innovation: theoretica...   \n",
       "397  Crossref  [The relevance of the ISO26000 social responsi...   \n",
       "\n",
       "                type  volume  \n",
       "393  journal-article      14  \n",
       "394  journal-article       9  \n",
       "395  journal-article      11  \n",
       "396  journal-article      16  \n",
       "397  journal-article      13  \n",
       "\n",
       "[5 rows x 32 columns]"
      ]
     },
     "execution_count": 117,
     "metadata": {
      "tags": []
     },
     "output_type": "execute_result"
    }
   ],
   "source": [
    "df_5Journals = dfList[0]\n",
    "for df in dfList[1:]:\n",
    "  df_5Journals.append(df)\n",
    "df_5Journals.tail()"
   ]
  },
  {
   "cell_type": "code",
   "execution_count": 0,
   "metadata": {
    "colab": {
     "base_uri": "https://localhost:8080/",
     "height": 374
    },
    "colab_type": "code",
    "id": "mWlUW-ylp2BA",
    "outputId": "218706ed-7f50-4783-d026-21fbdcd07af9"
   },
   "outputs": [
    {
     "data": {
      "text/plain": [
       "0     169\n",
       "1      70\n",
       "2      40\n",
       "3      36\n",
       "4      20\n",
       "5      14\n",
       "6      13\n",
       "7       8\n",
       "8       6\n",
       "9       5\n",
       "11      4\n",
       "12      3\n",
       "14      3\n",
       "28      1\n",
       "10      1\n",
       "15      1\n",
       "16      1\n",
       "20      1\n",
       "23      1\n",
       "82      1\n",
       "Name: is-referenced-by-count, dtype: int64"
      ]
     },
     "execution_count": 109,
     "metadata": {
      "tags": []
     },
     "output_type": "execute_result"
    }
   ],
   "source": [
    "df_5Journals[\"is-referenced-by-count\"].value_counts()"
   ]
  },
  {
   "cell_type": "code",
   "execution_count": 0,
   "metadata": {
    "colab": {
     "base_uri": "https://localhost:8080/",
     "height": 578
    },
    "colab_type": "code",
    "id": "0-9SaaVnqi7A",
    "outputId": "e12e685e-34f5-412b-b993-a93ae112f5d6"
   },
   "outputs": [
    {
     "data": {
      "text/plain": [
       "DOI                                                10.5130/ajceb.v14i3.4154\n",
       "ISSN                                                            [2204-9029]\n",
       "URL                              http://dx.doi.org/10.5130/ajceb.v14i3.4154\n",
       "abstract                  <jats:p>The purpose of this paper is twofold. ...\n",
       "author                    [{'given': 'M. Reza', 'family': 'Hosseini', 's...\n",
       "container-title                       [Construction Economics and Building]\n",
       "content-domain               {'domain': [], 'crossmark-restriction': False}\n",
       "created                   {'date-parts': [[2014, 10, 1]], 'date-time': '...\n",
       "deposited                 {'date-parts': [[2018, 10, 8]], 'date-time': '...\n",
       "indexed                   {'date-parts': [[2019, 2, 14]], 'date-time': '...\n",
       "is-referenced-by-count                                                    0\n",
       "issn-type                    [{'value': '2204-9029', 'type': 'electronic'}]\n",
       "issue                                                                     3\n",
       "issued                                      {'date-parts': [[2014, 9, 13]]}\n",
       "journal-issue             {'published-online': {'date-parts': [[2014, 9,...\n",
       "license                   [{'URL': 'http://creativecommons.org/licenses/...\n",
       "link                      [{'URL': 'https://epress.lib.uts.edu.au/journa...\n",
       "member                                                                 3097\n",
       "page                                                                   1-17\n",
       "prefix                                                               10.513\n",
       "published-online                            {'date-parts': [[2014, 9, 13]]}\n",
       "publisher                            University of Technology, Sydney (UTS)\n",
       "reference                                                               NaN\n",
       "reference-count                                                           0\n",
       "references-count                                                          0\n",
       "relation                                                                NaN\n",
       "score                                                                     1\n",
       "short-container-title                                                 [CEB]\n",
       "source                                                             Crossref\n",
       "title                     [Investigating the Factors Associated with Job...\n",
       "type                                                        journal-article\n",
       "volume                                                                   14\n",
       "Name: 0, dtype: object"
      ]
     },
     "execution_count": 114,
     "metadata": {
      "tags": []
     },
     "output_type": "execute_result"
    }
   ],
   "source": [
    "df_5Journals.iloc[0]"
   ]
  },
  {
   "cell_type": "code",
   "execution_count": 0,
   "metadata": {
    "colab": {},
    "colab_type": "code",
    "id": "ge1cAh9VqFSZ"
   },
   "outputs": [],
   "source": [
    "\n",
    "\n",
    "# Edit current section for enable local dump \n",
    "\n",
    "# df_5Journals.to_csv('5journals_5000.csv')\n",
    "# files.download('5journals_5000.csv')"
   ]
  }
 ],
 "metadata": {
  "colab": {
   "collapsed_sections": [],
   "include_colab_link": true,
   "name": "BT4222_Project_DataCollection.ipynb",
   "provenance": [],
   "version": "0.3.2"
  },
  "kernelspec": {
   "display_name": "Python 3",
   "language": "python",
   "name": "python3"
  },
  "language_info": {
   "codemirror_mode": {
    "name": "ipython",
    "version": 3
   },
   "file_extension": ".py",
   "mimetype": "text/x-python",
   "name": "python",
   "nbconvert_exporter": "python",
   "pygments_lexer": "ipython3",
   "version": "3.5.5"
  }
 },
 "nbformat": 4,
 "nbformat_minor": 1
}
